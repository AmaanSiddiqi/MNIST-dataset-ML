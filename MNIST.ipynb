{
  "cells": [
    {
      "cell_type": "markdown",
      "id": "31352dfb",
      "metadata": {
        "id": "31352dfb"
      },
      "source": [
        "## Lab 4 - MNIST\n",
        "\n",
        "For lab 4, you will complete and submit this ipynb to Canvas by the deadline.\n",
        "\n",
        "Please see the posted Fashion-MNIST Jupyter Notebook. You should use it as the guideline to complete this Jupyter Notebook. There are many similarities, except a few places that you need to make modifications.\n",
        "\n",
        "Read the lab description carefully for the instructions. \n"
      ]
    },
    {
      "cell_type": "code",
      "execution_count": null,
      "id": "73730f39",
      "metadata": {
        "id": "73730f39"
      },
      "outputs": [],
      "source": [
        "# All the needed imports\n",
        "import torch\n",
        "from torch import nn\n",
        "from torch.utils.data import DataLoader\n",
        "from torchvision import datasets\n",
        "from torchvision.transforms import ToTensor, Lambda, Compose\n",
        "import matplotlib.pyplot as plt\n",
        "from sklearn.metrics import confusion_matrix, classification_report,f1_score"
      ]
    },
    {
      "cell_type": "code",
      "execution_count": null,
      "id": "f69ff374",
      "metadata": {
        "id": "f69ff374"
      },
      "outputs": [],
      "source": [
        "# Download training data from open datasets.\n",
        "# Imports the MNIST dataset from dataset.\n",
        "training_data = datasets.MNIST(\n",
        "    root=\"data\", # Location of the dataset\n",
        "    train=True, # Loads in the training set\n",
        "    download=True, # Download the dataset if not present in root directory\n",
        "    transform=ToTensor(), # Converts image data from PIL format to pytorch format\n",
        ")\n",
        "\n",
        "# Download test data from open datasets.\n",
        "test_data = datasets.MNIST( # Imports MNIST test data from datasets.\n",
        "    root=\"data\", # Location of the dataset\n",
        "    train=False, # Does not load in the training set\n",
        "    download=True, # Download the dataset if not present in root directory\n",
        "    transform=ToTensor(), # Converts image data from PIL format to pytorch format\n",
        ")"
      ]
    },
    {
      "cell_type": "code",
      "execution_count": null,
      "id": "a5405f4b",
      "metadata": {
        "colab": {
          "base_uri": "https://localhost:8080/"
        },
        "id": "a5405f4b",
        "outputId": "3a6481c6-5b52-4447-aac5-466b831391e4"
      },
      "outputs": [
        {
          "output_type": "stream",
          "name": "stdout",
          "text": [
            "Shape of X [N, C, H, W]:  torch.Size([64, 1, 28, 28])\n",
            "Shape of y:  torch.Size([64]) torch.int64\n"
          ]
        }
      ],
      "source": [
        "# Create data loaders.\n",
        "batch_size = 64 # number of images processed in each iteration of the loop \n",
        "\n",
        "# Loads in the training data, with it going through batch_size images per iteration\n",
        "train_dataloader = DataLoader(training_data, batch_size=batch_size)\n",
        "# Loads in the testing data, with it going through batch_size images per iteration\n",
        "test_dataloader = DataLoader(test_data, batch_size=batch_size)\n",
        "\n",
        "# Iterate through test_dataloaders, which the loads the test dataset and \n",
        "# returns a batch of data 'x' and corresponding target 'y'\n",
        "for X, y in test_dataloader:\n",
        "    # prints X(4D tensor), where N = batch size,C = number of channels,H = height, W = width\n",
        "    print(\"Shape of X [N, C, H, W]: \", X.shape)\n",
        "    # prints y (1d tensor), alongs with the data type of the tensor(integer). \n",
        "    print(\"Shape of y: \", y.shape, y.dtype)\n",
        "    break"
      ]
    },
    {
      "cell_type": "code",
      "execution_count": null,
      "id": "7510e092",
      "metadata": {
        "colab": {
          "base_uri": "https://localhost:8080/"
        },
        "id": "7510e092",
        "outputId": "0dff7518-d069-4d6f-8eb6-a5b6957cae1f"
      },
      "outputs": [
        {
          "output_type": "stream",
          "name": "stdout",
          "text": [
            "Using cpu device\n",
            "NeuralNetwork(\n",
            "  (flatten): Flatten(start_dim=1, end_dim=-1)\n",
            "  (linear_relu_stack): Sequential(\n",
            "    (0): Linear(in_features=784, out_features=512, bias=True)\n",
            "    (1): ReLU()\n",
            "    (2): Linear(in_features=512, out_features=512, bias=True)\n",
            "    (3): ReLU()\n",
            "    (4): Linear(in_features=512, out_features=10, bias=True)\n",
            "  )\n",
            ")\n"
          ]
        }
      ],
      "source": [
        "# Get cpu or gpu device for training.\n",
        "# Uses GPU cuda if available, otherwise uses cpu.\n",
        "device = \"cuda\" if torch.cuda.is_available() else \"cpu\"\n",
        "# prints what device is being used.\n",
        "print(\"Using {} device\".format(device))\n",
        "\n",
        "# Define an NN model\n",
        "class NeuralNetwork(nn.Module):\n",
        "    # defines layers of the neural network using nn.Module\n",
        "    def __init__(self):\n",
        "        super(NeuralNetwork, self).__init__()\n",
        "        # flattens input tensors from 4D to 1D\n",
        "        self.flatten = nn.Flatten()\n",
        "        # defines the sequences of layers that will be appplied to the input tensor.\n",
        "        self.linear_relu_stack = nn.Sequential(\n",
        "            # First linear transformation that takes an input tensor of [batch_size, 784]\n",
        "            # and has 512 output features.\n",
        "            nn.Linear(28*28, 512),\n",
        "            # applies the ReLU activation function to the output of the Linear() function.\n",
        "            nn.ReLU(),\n",
        "            # Second linear transformation takes the output of the first Linear() function\n",
        "            # and has 512 output features.\n",
        "            nn.Linear(512, 512),\n",
        "            # applies the ReLU activation function to the output of the second Linear() function.\n",
        "            nn.ReLU(),\n",
        "            # Third linear layer has 10 output features, which correspond \n",
        "            # to the 10 classes of the MNIST dataset.\n",
        "            nn.Linear(512, 10)\n",
        "        )\n",
        "\n",
        "    # takes an input tensor 'x' and applies the layers defined in the above function to it.\n",
        "    def forward(self, x):\n",
        "      # flattens input x\n",
        "        x = self.flatten(x)\n",
        "        # x is passed through the layers defined in linear_relu_stack\n",
        "        logits = self.linear_relu_stack(x)\n",
        "        # returns logits tensors\n",
        "        return logits\n",
        "\n",
        "# creates an instance of the neural network using the device specified\n",
        "model = NeuralNetwork().to(device)\n",
        "# prints the architecture (string representation) of this model\n",
        "print(model)\n"
      ]
    },
    {
      "cell_type": "code",
      "execution_count": null,
      "id": "52632ea3",
      "metadata": {
        "id": "52632ea3"
      },
      "outputs": [],
      "source": [
        "# Set the loss and optimizer to be used in the next next cell\n",
        "\n",
        "# loss_fn uses CrossEntropyLoss() to return the average loss value of all the samples in the batch\n",
        "loss_fn = nn.CrossEntropyLoss()\n",
        "\n",
        "# optimizer uses SGD to update the parameters as the model trains itself with a learning rate 1e-3\n",
        "optimizer = torch.optim.SGD(model.parameters(), lr=2e-1)\n",
        "\n",
        "# set up the learning rate for the optimizer, reducing by 0.1 for every 5 epochs.\n",
        "scheduler = torch.optim.lr_scheduler.StepLR(optimizer, step_size=5, gamma=0.1)"
      ]
    },
    {
      "cell_type": "code",
      "execution_count": null,
      "id": "6b05ba77",
      "metadata": {
        "id": "6b05ba77"
      },
      "outputs": [],
      "source": [
        "# Define the train and test functions\n",
        "def train(dataloader, model, loss_fn, optimizer):\n",
        "    # Get the number of training samples in the dataloader\n",
        "    size = len(dataloader.dataset)\n",
        "    # Set the model to training mode, which enables features such as dropout\n",
        "    model.train()\n",
        "    # For each batch of data in the dataloader, do the following:\n",
        "    for batch, (X, y) in enumerate(dataloader):\n",
        "        # Transfer the data and labels to the device (e.g., CPU or GPU) specified by the \"device\" variable\n",
        "        X, y = X.to(device), y.to(device)\n",
        "\n",
        "        # Compute the model's predictions for the input data X\n",
        "        pred = model(X)\n",
        "        # Compute the prediction error (i.e., loss) using the loss function loss_fn\n",
        "        loss = loss_fn(pred, y)\n",
        "\n",
        "        # Backpropagation\n",
        "        optimizer.zero_grad()\n",
        "        # Compute the gradients of the loss with respect to the model parameters\n",
        "        loss.backward()\n",
        "        # Update the model parameters using the optimizer (e.g., gradient descent)\n",
        "        optimizer.step()\n",
        "\n",
        "        # If the current batch index is a multiple of 100, print the current loss and the number of training samples seen so far\n",
        "        if batch % 100 == 0:\n",
        "            loss, current = loss.item(), batch * len(X)\n",
        "            print(f\"loss: {loss:>7f}  [{current:>5d}/{size:>5d}]\")\n",
        "\n",
        "# Defined test function\n",
        "def test(dataloader, model, loss_fn):\n",
        "    # Get the number of test samples in the dataloader\n",
        "    size = len(dataloader.dataset)\n",
        "    # Get the number of batches in the dataloader\n",
        "    num_batches = len(dataloader)\n",
        "    # Set the model to evaluation mode\n",
        "    model.eval()\n",
        "    # Initialize variables to track the test loss and the number of correct predictions\n",
        "    test_loss, correct = 0, 0\n",
        "    # Turn off autograd during the testing loop to reduce memory usage and speed up computation\n",
        "    with torch.no_grad():\n",
        "        # For each batch of data in the dataloader, do the following:\n",
        "        for X, y in dataloader:\n",
        "            # Transfer the data and labels to the device (e.g., CPU or GPU) specified by the \"device\" variable\n",
        "            X, y = X.to(device), y.to(device)\n",
        "            # Compute the model's predictions for the input data X\n",
        "            pred = model(X)\n",
        "            # Compute the prediction error (i.e., loss) using the loss function loss_fn and accumulate it across all test batches\n",
        "            test_loss += loss_fn(pred, y).item()\n",
        "            # Compute the number of correct predictions in the batch and accumulate it across all test batches\n",
        "            correct += (pred.argmax(1) == y).type(torch.float).sum().item()\n",
        "    # Compute the average test loss across all test batches\n",
        "    test_loss /= num_batches\n",
        "    # Compute the accuracy of the model's predictions\n",
        "    correct /= size\n",
        "    # Print the accuracy and average test loss\n",
        "    print(f\"Test Error: \\n Accuracy: {(100*correct):>0.1f}%, Avg loss: {test_loss:>8f} \\n\")\n"
      ]
    },
    {
      "cell_type": "code",
      "execution_count": null,
      "id": "0b730117",
      "metadata": {
        "colab": {
          "base_uri": "https://localhost:8080/"
        },
        "id": "0b730117",
        "outputId": "2196df7b-097b-4bfb-b1f9-6db77ee6add1"
      },
      "outputs": [
        {
          "output_type": "stream",
          "name": "stdout",
          "text": [
            "Epoch 1\n",
            "-------------------------------\n",
            "loss: 2.298631  [    0/60000]\n",
            "loss: 0.374297  [ 6400/60000]\n",
            "loss: 0.298180  [12800/60000]\n",
            "loss: 0.332604  [19200/60000]\n",
            "loss: 0.176633  [25600/60000]\n",
            "loss: 0.276787  [32000/60000]\n",
            "loss: 0.136801  [38400/60000]\n",
            "loss: 0.231742  [44800/60000]\n",
            "loss: 0.173258  [51200/60000]\n",
            "loss: 0.225836  [57600/60000]\n",
            "Test Error: \n",
            " Accuracy: 94.6%, Avg loss: 0.169471 \n",
            "\n",
            "Epoch 2\n",
            "-------------------------------\n",
            "loss: 0.078143  [    0/60000]\n",
            "loss: 0.142649  [ 6400/60000]\n",
            "loss: 0.129822  [12800/60000]\n",
            "loss: 0.195131  [19200/60000]\n",
            "loss: 0.079898  [25600/60000]\n",
            "loss: 0.162144  [32000/60000]\n",
            "loss: 0.089127  [38400/60000]\n",
            "loss: 0.158371  [44800/60000]\n",
            "loss: 0.106786  [51200/60000]\n",
            "loss: 0.155874  [57600/60000]\n",
            "Test Error: \n",
            " Accuracy: 96.5%, Avg loss: 0.116791 \n",
            "\n",
            "Epoch 3\n",
            "-------------------------------\n",
            "loss: 0.040155  [    0/60000]\n",
            "loss: 0.081192  [ 6400/60000]\n",
            "loss: 0.094454  [12800/60000]\n",
            "loss: 0.131873  [19200/60000]\n",
            "loss: 0.051257  [25600/60000]\n",
            "loss: 0.104558  [32000/60000]\n",
            "loss: 0.061654  [38400/60000]\n",
            "loss: 0.122058  [44800/60000]\n",
            "loss: 0.107756  [51200/60000]\n",
            "loss: 0.102017  [57600/60000]\n",
            "Test Error: \n",
            " Accuracy: 97.2%, Avg loss: 0.090056 \n",
            "\n",
            "Epoch 4\n",
            "-------------------------------\n",
            "loss: 0.021276  [    0/60000]\n",
            "loss: 0.051418  [ 6400/60000]\n",
            "loss: 0.045140  [12800/60000]\n",
            "loss: 0.101834  [19200/60000]\n",
            "loss: 0.034476  [25600/60000]\n",
            "loss: 0.071607  [32000/60000]\n",
            "loss: 0.048125  [38400/60000]\n",
            "loss: 0.077263  [44800/60000]\n",
            "loss: 0.094708  [51200/60000]\n",
            "loss: 0.045848  [57600/60000]\n",
            "Test Error: \n",
            " Accuracy: 97.6%, Avg loss: 0.077694 \n",
            "\n",
            "Epoch 5\n",
            "-------------------------------\n",
            "loss: 0.018367  [    0/60000]\n",
            "loss: 0.025697  [ 6400/60000]\n",
            "loss: 0.032484  [12800/60000]\n",
            "loss: 0.068110  [19200/60000]\n",
            "loss: 0.019629  [25600/60000]\n",
            "loss: 0.051340  [32000/60000]\n",
            "loss: 0.036005  [38400/60000]\n",
            "loss: 0.050249  [44800/60000]\n",
            "loss: 0.085657  [51200/60000]\n",
            "loss: 0.025382  [57600/60000]\n",
            "Test Error: \n",
            " Accuracy: 97.8%, Avg loss: 0.071654 \n",
            "\n",
            "Epoch 6\n",
            "-------------------------------\n",
            "loss: 0.015612  [    0/60000]\n",
            "loss: 0.013686  [ 6400/60000]\n",
            "loss: 0.025720  [12800/60000]\n",
            "loss: 0.005165  [19200/60000]\n",
            "loss: 0.013175  [25600/60000]\n",
            "loss: 0.011321  [32000/60000]\n",
            "loss: 0.009046  [38400/60000]\n",
            "loss: 0.027432  [44800/60000]\n",
            "loss: 0.047785  [51200/60000]\n",
            "loss: 0.021644  [57600/60000]\n",
            "Test Error: \n",
            " Accuracy: 98.2%, Avg loss: 0.058376 \n",
            "\n",
            "Done!\n"
          ]
        }
      ],
      "source": [
        "# Training the NN model \n",
        "\n",
        "# Set the number of epochs to train the model for\n",
        "epochs = 6   #starting with 5 epochs --> may need to adjust\n",
        "# For each epoch in the range of epochs specified, do the following:\n",
        "for t in range(epochs):\n",
        "    # Print which epoch we're currently on\n",
        "    print(f\"Epoch {t+1}\\n-------------------------------\")\n",
        "    # Train the model using the training DataLoader\n",
        "    train(train_dataloader, model, loss_fn, optimizer)\n",
        "    # Test the model's accuracy using the testing DataLoader\n",
        "    test(test_dataloader, model, loss_fn)\n",
        "    # Use the scheduler to update the learning rate for the optimizer\n",
        "    scheduler.step()\n",
        "# Print message indicating we are finished training the model\n",
        "print(\"Done!\")\n",
        "\n",
        "# I get an accuracy of about 98.2%. This was accomplished by changing the \n",
        "# number of epochs, the learning curve and also using a scheduler for the learning curve.\n",
        "# Changing the number of epochs or the learning curve further did not result in \n",
        "# much variance, so the model converges at this accuracy.\n",
        "# I decided on a (2e-1) learning curve and 6 epochs as that gave the best \n",
        "# results while also having a good F1 score and confusion matrix."
      ]
    },
    {
      "cell_type": "code",
      "execution_count": null,
      "id": "8b59ba70",
      "metadata": {
        "id": "8b59ba70",
        "outputId": "f7ef2513-13f2-4134-9ace-0c1b64aff7c8",
        "colab": {
          "base_uri": "https://localhost:8080/"
        }
      },
      "outputs": [
        {
          "output_type": "stream",
          "name": "stdout",
          "text": [
            "Saved PyTorch Model State to model.pth\n"
          ]
        }
      ],
      "source": [
        "# Saving the model in a file, we will use it in the next cell\n",
        "torch.save(model.state_dict(), \"model.pth\")\n",
        "# Print a message that indicated it has been saved.\n",
        "print(\"Saved PyTorch Model State to model.pth\")"
      ]
    },
    {
      "cell_type": "code",
      "execution_count": null,
      "id": "bf6ddf84",
      "metadata": {
        "id": "bf6ddf84",
        "outputId": "fa2f7a06-bbe1-4d73-adef-330577dbc6a1",
        "colab": {
          "base_uri": "https://localhost:8080/"
        }
      },
      "outputs": [
        {
          "output_type": "stream",
          "name": "stdout",
          "text": [
            "Predicted: \"7\", Actual: \"7\"\n",
            "Predicted: \"2\", Actual: \"2\"\n",
            "Predicted: \"1\", Actual: \"1\"\n",
            "Predicted: \"0\", Actual: \"0\"\n",
            "Predicted: \"4\", Actual: \"4\"\n",
            "Predicted: \"1\", Actual: \"1\"\n",
            "Predicted: \"4\", Actual: \"4\"\n",
            "Predicted: \"9\", Actual: \"9\"\n",
            "Predicted: \"5\", Actual: \"5\"\n",
            "Predicted: \"9\", Actual: \"9\"\n",
            "Predicted: \"0\", Actual: \"0\"\n",
            "Predicted: \"6\", Actual: \"6\"\n",
            "Predicted: \"9\", Actual: \"9\"\n",
            "Predicted: \"0\", Actual: \"0\"\n",
            "Predicted: \"1\", Actual: \"1\"\n",
            "Predicted: \"5\", Actual: \"5\"\n",
            "Predicted: \"9\", Actual: \"9\"\n",
            "Predicted: \"7\", Actual: \"7\"\n",
            "Predicted: \"3\", Actual: \"3\"\n",
            "Predicted: \"4\", Actual: \"4\"\n"
          ]
        }
      ],
      "source": [
        "# Using the model for some testing\n",
        "model = NeuralNetwork()\n",
        "model.load_state_dict(torch.load(\"model.pth\"))\n",
        "\n",
        "# Define a list of classes for the output labels\n",
        "classes = [\n",
        "    \"0\",\n",
        "    \"1\",\n",
        "    \"2\",\n",
        "    \"3\",\n",
        "    \"4\",\n",
        "    \"5\",\n",
        "    \"6\",\n",
        "    \"7\",\n",
        "    \"8\",\n",
        "    \"9\",\n",
        "]\n",
        "\n",
        "# For each of the first 20 test cases, do the following:\n",
        "for i in range(20):\n",
        "  # Set the model to evaluation mode\n",
        "  model.eval()\n",
        "  # Get the input and output values for the test case\n",
        "  x, y = test_data[i][0], test_data[i][1]\n",
        "  # Compute the predicted output for the test case using the model\n",
        "  with torch.no_grad():\n",
        "      # Compute the model's predictions for the input data x\n",
        "      pred = model(x)\n",
        "      # Map the predicted and actual output values to their corresponding class labels\n",
        "      predicted, actual = classes[pred[0].argmax(0)], classes[y]\n",
        "      # Print the predicted and actual output for the test case\n",
        "      print(f'Predicted: \"{predicted}\", Actual: \"{actual}\"')\n"
      ]
    },
    {
      "cell_type": "code",
      "execution_count": null,
      "id": "06b43a65",
      "metadata": {
        "scrolled": true,
        "id": "06b43a65",
        "outputId": "0730de6a-6098-41d6-a906-99a7c41cb197",
        "colab": {
          "base_uri": "https://localhost:8080/",
          "height": 585
        }
      },
      "outputs": [
        {
          "output_type": "display_data",
          "data": {
            "text/plain": [
              "<Figure size 720x576 with 20 Axes>"
            ],
            "image/png": "[encoded data removed]"
          },
          "metadata": {
            "needs_background": "light"
          }
        }
      ],
      "source": [
        "# Plot the test images used in the previous cell\n",
        "batch = next(iter(test_dataloader))\n",
        "\n",
        "# Get the first 20 images and labels\n",
        "images = batch[0][:20]\n",
        "labels = batch[1][:20]\n",
        "\n",
        "# Display the images\n",
        "fig, axes = plt.subplots(nrows=4, ncols=5, figsize=(10, 8))\n",
        "\n",
        "# Iterate over each image in the batch and plot it with its label as the title\n",
        "for i, ax in enumerate(axes.flat):\n",
        "    # Convert the image from tensor format to a numpy array and then permute its dimensions to display it as an image\n",
        "    ax.imshow(images[i].permute(1, 2, 0), cmap='gray')\n",
        "    ax.set_title(f\"Label: {labels[i]}\")\n",
        "    ax.axis('off')\n",
        "\n",
        "# Adjust the spacing between the subplots and display the plot\n",
        "plt.tight_layout()\n",
        "plt.show()"
      ]
    },
    {
      "cell_type": "code",
      "execution_count": null,
      "id": "7e75b25d",
      "metadata": {
        "id": "7e75b25d",
        "colab": {
          "base_uri": "https://localhost:8080/"
        },
        "outputId": "0629a9c9-cfc1-40a2-efb8-9a3acea62b62"
      },
      "outputs": [
        {
          "output_type": "stream",
          "name": "stdout",
          "text": [
            "Confusion matrix is: \n",
            " [[ 969    0    0    1    2    0    1    1    4    2]\n",
            " [   0 1128    1    2    0    0    2    0    2    0]\n",
            " [   4    2 1010    3    3    0    1    4    5    0]\n",
            " [   1    0    5  993    0    5    0    1    3    2]\n",
            " [   1    0    3    0  966    0    3    1    0    8]\n",
            " [   2    0    0    6    1  875    3    0    3    2]\n",
            " [   4    3    0    1    5    5  938    0    2    0]\n",
            " [   0    6    7    1    0    0    0 1006    3    5]\n",
            " [   3    0    3    3    2    3    2    2  953    3]\n",
            " [   2    2    0    6   11    1    1    5    1  980]] \n",
            "\n",
            "Classification report: \n",
            "               precision    recall  f1-score   support\n",
            "\n",
            "           0       0.98      0.99      0.99       980\n",
            "           1       0.99      0.99      0.99      1135\n",
            "           2       0.98      0.98      0.98      1032\n",
            "           3       0.98      0.98      0.98      1010\n",
            "           4       0.98      0.98      0.98       982\n",
            "           5       0.98      0.98      0.98       892\n",
            "           6       0.99      0.98      0.98       958\n",
            "           7       0.99      0.98      0.98      1028\n",
            "           8       0.98      0.98      0.98       974\n",
            "           9       0.98      0.97      0.97      1009\n",
            "\n",
            "    accuracy                           0.98     10000\n",
            "   macro avg       0.98      0.98      0.98     10000\n",
            "weighted avg       0.98      0.98      0.98     10000\n",
            "\n",
            "\n",
            "F1 score is: \n",
            " 0.9818 \n",
            "\n"
          ]
        }
      ],
      "source": [
        "# Include more testing and visualization here\n",
        "y_pred = []\n",
        "# Compute the predicted output for the test case using the model\n",
        "with torch.no_grad():\n",
        "    # Loop through the batches in test dataloader\n",
        "    for batch in test_dataloader:\n",
        "        # Extract the images and labels from the batch\n",
        "        images, labels = batch\n",
        "        # Pass the images through the model to get the predicted outputs\n",
        "        outputs = model(images)\n",
        "        # Get the index of the maximum value in the outputs, which corresponds to the predicted label\n",
        "        _, predicted = torch.max(outputs.data, 1)\n",
        "        # Append the predicted label to the y_pred list\n",
        "        y_pred.extend(predicted.numpy())\n",
        "\n",
        "# Get the true labels from the test set\n",
        "y_true = []\n",
        "# Loop through the batches in test dataloader\n",
        "for batch in test_dataloader:\n",
        "    # Extract the labels from the batch\n",
        "    _, labels = batch\n",
        "    # Append the labels to the y_true list\n",
        "    y_true.extend(labels.numpy())\n",
        "\n",
        "# Compute the confusion matrix\n",
        "cm = confusion_matrix(y_true, y_pred)\n",
        "# Print the confusion matrix\n",
        "print(f\"Confusion matrix is: \\n {cm} \\n\")\n",
        "\n",
        "# Generate a classification report using the true labels and predicted labels\n",
        "report = classification_report(y_true, y_pred)\n",
        "# Print the classification report\n",
        "print(f\"Classification report: \\n {report}\\n\")\n",
        "\n",
        "# Compute the F1 score using the true labels and predicted labels\n",
        "f1 = f1_score(y_true, y_pred, average='micro')\n",
        "# Print the F1 score\n",
        "print(f\"F1 score is: \\n {f1} \\n\")\n",
        "\n"
      ]
    },
    {
      "cell_type": "code",
      "execution_count": null,
      "id": "b2c97119",
      "metadata": {
        "id": "b2c97119"
      },
      "outputs": [],
      "source": []
    }
  ],
  "metadata": {
    "kernelspec": {
      "display_name": "Python 3 (ipykernel)",
      "language": "python",
      "name": "python3"
    },
    "language_info": {
      "codemirror_mode": {
        "name": "ipython",
        "version": 3
      },
      "file_extension": ".py",
      "mimetype": "text/x-python",
      "name": "python",
      "nbconvert_exporter": "python",
      "pygments_lexer": "ipython3",
      "version": "3.9.16"
    },
    "colab": {
      "provenance": []
    }
  },
  "nbformat": 4,
  "nbformat_minor": 5
}